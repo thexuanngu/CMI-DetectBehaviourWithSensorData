{
 "cells": [
  {
   "cell_type": "markdown",
   "id": "94be54c3",
   "metadata": {},
   "source": [
    "# Model1 Notebook\n",
    "\n",
    "## Evaluation Metric for competition: a version of macro F1 (Use `metric.py`). We need to predict a gesture for each sequence_id"
   ]
  },
  {
   "cell_type": "code",
   "execution_count": null,
   "id": "4b941a21",
   "metadata": {},
   "outputs": [],
   "source": [
    "import numpy as np\n",
    "import pandas as pd"
   ]
  }
 ],
 "metadata": {
  "language_info": {
   "name": "python"
  }
 },
 "nbformat": 4,
 "nbformat_minor": 5
}
